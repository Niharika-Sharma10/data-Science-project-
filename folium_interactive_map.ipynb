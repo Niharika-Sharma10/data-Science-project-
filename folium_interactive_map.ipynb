{
 "cells": [
  {
   "cell_type": "code",
   "execution_count": 2,
   "id": "fd45b16c",
   "metadata": {},
   "outputs": [],
   "source": [
    "# Install required packages (run in terminal / !pip inside notebook)\n",
    "# !pip install folium pandas\n",
    "\n",
    "import folium\n",
    "import pandas as pd\n",
    "\n",
    "# Import folium MarkerCluster plugin\n",
    "from folium.plugins import MarkerCluster\n",
    "# Import folium MousePosition plugin\n",
    "from folium.plugins import MousePosition\n",
    "# Import folium DivIcon plugin\n",
    "from folium.features import DivIcon\n"
   ]
  },
  {
   "cell_type": "code",
   "execution_count": 3,
   "id": "1257f57b",
   "metadata": {},
   "outputs": [
    {
     "name": "stdout",
     "output_type": "stream",
     "text": [
      " Map has been saved as 'launch_sites_map.html'. Open it in your browser to view.\n"
     ]
    }
   ],
   "source": [
    "\n",
    "# Task 1: Mark all launch sites on a map\n",
    "# Download/read the dataset directly from URL\n",
    "url = \"https://cf-courses-data.s3.us.cloud-object-storage.appdomain.cloud/IBM-DS0321EN-SkillsNetwork/datasets/spacex_launch_geo.csv\"\n",
    "spacex_df = pd.read_csv(url)\n",
    "\n",
    "# Select only the required columns\n",
    "spacex_df = spacex_df[['Launch Site', 'Lat', 'Long', 'class']]\n",
    "launch_sites_df = spacex_df.groupby(['Launch Site'], as_index=False).first()\n",
    "launch_sites_df = launch_sites_df[['Launch Site', 'Lat', 'Long']]\n",
    "\n",
    "# NASA Johnson Space Center coordinate\n",
    "nasa_coordinate = [29.559684888503615, -95.0830971930759]\n",
    "\n",
    "# Initialize map\n",
    "site_map = folium.Map(location=nasa_coordinate, zoom_start=5)\n",
    "\n",
    "# Add Circle and Marker for each Launch Site\n",
    "for index, row in launch_sites_df.iterrows():\n",
    "    coordinate = [row['Lat'], row['Long']]\n",
    "\n",
    "    # Circle marker\n",
    "    folium.Circle(\n",
    "        location=coordinate,\n",
    "        radius=1000,\n",
    "        color='#d35400',\n",
    "        fill=True\n",
    "    ).add_child(folium.Popup(row['Launch Site'])).add_to(site_map)\n",
    "\n",
    "    # Text marker\n",
    "    folium.map.Marker(\n",
    "        location=coordinate,\n",
    "        icon=DivIcon(\n",
    "            icon_size=(20, 20),\n",
    "            icon_anchor=(0, 0),\n",
    "            html=f'<div style=\"font-size: 12; color:#d35400;\"><b>{row[\"Launch Site\"]}</b></div>'\n",
    "        )\n",
    "    ).add_to(site_map)\n",
    "\n",
    "# Save map to HTML\n",
    "site_map.save(\"launch_sites_map.html\")\n",
    "print(\" Map has been saved as 'launch_sites_map.html'. Open it in your browser to view.\")\n"
   ]
  },
  {
   "cell_type": "code",
   "execution_count": null,
   "id": "25de4c53",
   "metadata": {},
   "outputs": [
    {
     "data": {
      "text/plain": [
       "True"
      ]
     },
     "execution_count": 4,
     "metadata": {},
     "output_type": "execute_result"
    }
   ],
   "source": [
    "import webbrowser # task 1 part \n",
    "webbrowser.open(\"launch_sites_map.html\")\n"
   ]
  },
  {
   "cell_type": "code",
   "execution_count": 5,
   "id": "912f515e",
   "metadata": {},
   "outputs": [
    {
     "data": {
      "text/plain": [
       "True"
      ]
     },
     "execution_count": 5,
     "metadata": {},
     "output_type": "execute_result"
    }
   ],
   "source": [
    "# task 2\n",
    "import webbrowser\n",
    "\n",
    "# Read dataset\n",
    "url = \"https://cf-courses-data.s3.us.cloud-object-storage.appdomain.cloud/IBM-DS0321EN-SkillsNetwork/datasets/spacex_launch_geo.csv\"\n",
    "spacex_df = pd.read_csv(url)\n",
    "\n",
    "# Select required columns\n",
    "spacex_df = spacex_df[['Launch Site', 'Lat', 'Long', 'class']]\n",
    "launch_sites_df = spacex_df.groupby(['Launch Site'], as_index=False).first()\n",
    "launch_sites_df = launch_sites_df[['Launch Site', 'Lat', 'Long']]\n",
    "\n",
    "# NASA coordinate\n",
    "nasa_coordinate = [29.559684888503615, -95.0830971930759]\n",
    "\n",
    "# Initialize map\n",
    "site_map = folium.Map(location=nasa_coordinate, zoom_start=5)\n",
    "\n",
    "# Add circle and text markers for launch sites\n",
    "for index, row in launch_sites_df.iterrows():\n",
    "    coordinate = [row['Lat'], row['Long']]\n",
    "    \n",
    "    folium.Circle(\n",
    "        location=coordinate,\n",
    "        radius=1000,\n",
    "        color='#d35400',\n",
    "        fill=True\n",
    "    ).add_child(folium.Popup(row['Launch Site'])).add_to(site_map)\n",
    "    \n",
    "    folium.map.Marker(\n",
    "        location=coordinate,\n",
    "        icon=DivIcon(\n",
    "            icon_size=(20, 20),\n",
    "            icon_anchor=(0, 0),\n",
    "            html=f'<div style=\"font-size: 12; color:#d35400;\"><b>{row[\"Launch Site\"]}</b></div>'\n",
    "        )\n",
    "    ).add_to(site_map)\n",
    "\n",
    "# ---- Task 2: Add success/failure markers ----\n",
    "\n",
    "# Create a new column for marker color\n",
    "spacex_df['marker_color'] = spacex_df['class'].apply(lambda x: 'green' if x==1 else 'red')\n",
    "\n",
    "# Create a MarkerCluster object\n",
    "marker_cluster = MarkerCluster()\n",
    "\n",
    "# Add each launch as a marker in the cluster\n",
    "for index, row in spacex_df.iterrows():\n",
    "    coordinate = [row['Lat'], row['Long']]\n",
    "    marker = folium.Marker(\n",
    "        location=coordinate,\n",
    "        icon=folium.Icon(color='white', icon_color=row['marker_color'], icon='rocket', prefix='fa'),\n",
    "        popup=f\"Launch Site: {row['Launch Site']}<br>Success: {'Yes' if row['class']==1 else 'No'}\"\n",
    "    )\n",
    "    marker_cluster.add_child(marker)\n",
    "\n",
    "# Add marker cluster to the map\n",
    "site_map.add_child(marker_cluster)\n",
    "\n",
    "# Save and automatically open the map in browser\n",
    "site_map.save(\"launch_sites_map.html\")\n",
    "webbrowser.open(\"launch_sites_map.html\")\n"
   ]
  },
  {
   "cell_type": "code",
   "execution_count": null,
   "id": "aa8185b5",
   "metadata": {},
   "outputs": [
    {
     "data": {
      "text/plain": [
       "True"
      ]
     },
     "execution_count": 13,
     "metadata": {},
     "output_type": "execute_result"
    }
   ],
   "source": [
    "# task 3\n",
    "#import folium\n",
    "from folium import plugins\n",
    "from folium.plugins import MarkerCluster\n",
    "from folium.features import DivIcon\n",
    "from math import sin, cos, sqrt, atan2, radians\n",
    "\n",
    "# Distance calculate karne ke liye haversine function\n",
    "def calculate_distance(lat1, lon1, lat2, lon2):\n",
    "    R = 6373.0\n",
    "    lat1, lon1, lat2, lon2 = map(radians, [lat1, lon1, lat2, lon2])\n",
    "    dlon = lon2 - lon1\n",
    "    dlat = lat2 - lat1\n",
    "    a = sin(dlat/2)**2 + cos(lat1) * cos(lat2) * sin(dlon/2)**2\n",
    "    c = 2 * atan2(sqrt(a), sqrt(1-a))\n",
    "    return R * c\n",
    "\n",
    "# Launch site coordinate\n",
    "launch_site = [28.563197, -80.576820]\n",
    "\n",
    "# Coastline coordinate\n",
    "coastline = [28.563197, -80.567000]\n",
    "\n",
    "# Map initialize\n",
    "site_map = folium.Map(location=launch_site, zoom_start=14)\n",
    "\n",
    "# MarkerCluster add karo\n",
    "marker_cluster = MarkerCluster().add_to(site_map)\n",
    "\n",
    "# Launch site marker\n",
    "folium.Marker(\n",
    "    location=launch_site,\n",
    "    icon=folium.Icon(color='orange', icon='rocket'),\n",
    "    popup=\"CCAFS LC-40\"\n",
    ").add_to(marker_cluster)\n",
    "\n",
    "# Coastline marker\n",
    "folium.Marker(\n",
    "    location=coastline,\n",
    "    icon=folium.Icon(color='blue', icon='flag'),\n",
    "    popup=\"Coastline\"\n",
    ").add_to(site_map)\n",
    "\n",
    "# Polyline draw karna (launch site -> coastline)\n",
    "coordinates = [launch_site, coastline]\n",
    "folium.PolyLine(locations=coordinates, weight=2, color='blue').add_to(site_map)\n",
    "\n",
    "# Distance calculate aur label\n",
    "distance = calculate_distance(launch_site[0], launch_site[1], coastline[0], coastline[1])\n",
    "folium.Marker(\n",
    "    coastline,\n",
    "    icon=DivIcon(\n",
    "        icon_size=(20,20),\n",
    "        icon_anchor=(0,0),\n",
    "        html=f'<div style=\"font-size: 12px; color:orange;\"><b>{distance:.2f} KM</b></div>'\n",
    "    )\n",
    ").add_to(site_map)\n",
    "\n",
    "# Save map\n",
    "site_map.save(\"launch_site_map.html\")\n",
    "import webbrowser\n",
    "\n",
    "site_map.save(\"launch_site_map.html\")\n",
    "webbrowser.open(\"launch_site_map.html\")   # Browser me auto open ho jayega\n",
    "\n"
   ]
  },
  {
   "cell_type": "code",
   "execution_count": null,
   "id": "b043c2ad",
   "metadata": {},
   "outputs": [],
   "source": []
  }
 ],
 "metadata": {
  "kernelspec": {
   "display_name": "base",
   "language": "python",
   "name": "python3"
  },
  "language_info": {
   "codemirror_mode": {
    "name": "ipython",
    "version": 3
   },
   "file_extension": ".py",
   "mimetype": "text/x-python",
   "name": "python",
   "nbconvert_exporter": "python",
   "pygments_lexer": "ipython3",
   "version": "3.13.5"
  }
 },
 "nbformat": 4,
 "nbformat_minor": 5
}
